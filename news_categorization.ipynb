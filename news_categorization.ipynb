{
 "cells": [
  {
   "cell_type": "code",
   "execution_count": 138,
   "id": "ae181d50-f44f-4c81-b35e-1549fd664727",
   "metadata": {},
   "outputs": [],
   "source": [
    "import pandas as pd\n",
    "import numpy as np\n",
    "import os\n",
    "import seaborn as sns\n",
    "import matplotlib.pyplot as plt"
   ]
  },
  {
   "cell_type": "code",
   "execution_count": 139,
   "id": "7ee64a8f-8e61-453f-b0d6-73751d9326ca",
   "metadata": {},
   "outputs": [
    {
     "data": {
      "text/html": [
       "<div>\n",
       "<style scoped>\n",
       "    .dataframe tbody tr th:only-of-type {\n",
       "        vertical-align: middle;\n",
       "    }\n",
       "\n",
       "    .dataframe tbody tr th {\n",
       "        vertical-align: top;\n",
       "    }\n",
       "\n",
       "    .dataframe thead th {\n",
       "        text-align: right;\n",
       "    }\n",
       "</style>\n",
       "<table border=\"1\" class=\"dataframe\">\n",
       "  <thead>\n",
       "    <tr style=\"text-align: right;\">\n",
       "      <th></th>\n",
       "      <th>link</th>\n",
       "      <th>headline</th>\n",
       "      <th>category</th>\n",
       "      <th>short_description</th>\n",
       "      <th>authors</th>\n",
       "      <th>date</th>\n",
       "    </tr>\n",
       "  </thead>\n",
       "  <tbody>\n",
       "    <tr>\n",
       "      <th>0</th>\n",
       "      <td>https://www.huffpost.com/entry/covid-boosters-...</td>\n",
       "      <td>Over 4 Million Americans Roll Up Sleeves For O...</td>\n",
       "      <td>U.S. NEWS</td>\n",
       "      <td>Health experts said it is too early to predict...</td>\n",
       "      <td>Carla K. Johnson, AP</td>\n",
       "      <td>2022-09-23</td>\n",
       "    </tr>\n",
       "    <tr>\n",
       "      <th>1</th>\n",
       "      <td>https://www.huffpost.com/entry/american-airlin...</td>\n",
       "      <td>American Airlines Flyer Charged, Banned For Li...</td>\n",
       "      <td>U.S. NEWS</td>\n",
       "      <td>He was subdued by passengers and crew when he ...</td>\n",
       "      <td>Mary Papenfuss</td>\n",
       "      <td>2022-09-23</td>\n",
       "    </tr>\n",
       "    <tr>\n",
       "      <th>2</th>\n",
       "      <td>https://www.huffpost.com/entry/funniest-tweets...</td>\n",
       "      <td>23 Of The Funniest Tweets About Cats And Dogs ...</td>\n",
       "      <td>COMEDY</td>\n",
       "      <td>\"Until you have a dog you don't understand wha...</td>\n",
       "      <td>Elyse Wanshel</td>\n",
       "      <td>2022-09-23</td>\n",
       "    </tr>\n",
       "    <tr>\n",
       "      <th>3</th>\n",
       "      <td>https://www.huffpost.com/entry/funniest-parent...</td>\n",
       "      <td>The Funniest Tweets From Parents This Week (Se...</td>\n",
       "      <td>PARENTING</td>\n",
       "      <td>\"Accidentally put grown-up toothpaste on my to...</td>\n",
       "      <td>Caroline Bologna</td>\n",
       "      <td>2022-09-23</td>\n",
       "    </tr>\n",
       "    <tr>\n",
       "      <th>4</th>\n",
       "      <td>https://www.huffpost.com/entry/amy-cooper-lose...</td>\n",
       "      <td>Woman Who Called Cops On Black Bird-Watcher Lo...</td>\n",
       "      <td>U.S. NEWS</td>\n",
       "      <td>Amy Cooper accused investment firm Franklin Te...</td>\n",
       "      <td>Nina Golgowski</td>\n",
       "      <td>2022-09-22</td>\n",
       "    </tr>\n",
       "    <tr>\n",
       "      <th>5</th>\n",
       "      <td>https://www.huffpost.com/entry/belk-worker-fou...</td>\n",
       "      <td>Cleaner Was Dead In Belk Bathroom For 4 Days B...</td>\n",
       "      <td>U.S. NEWS</td>\n",
       "      <td>The 63-year-old woman was seen working at the ...</td>\n",
       "      <td>NaN</td>\n",
       "      <td>2022-09-22</td>\n",
       "    </tr>\n",
       "    <tr>\n",
       "      <th>6</th>\n",
       "      <td>https://www.huffpost.com/entry/reporter-gets-a...</td>\n",
       "      <td>Reporter Gets Adorable Surprise From Her Boyfr...</td>\n",
       "      <td>U.S. NEWS</td>\n",
       "      <td>\"Who's that behind you?\" an anchor for New Yor...</td>\n",
       "      <td>Elyse Wanshel</td>\n",
       "      <td>2022-09-22</td>\n",
       "    </tr>\n",
       "    <tr>\n",
       "      <th>7</th>\n",
       "      <td>https://www.huffpost.com/entry/puerto-rico-wat...</td>\n",
       "      <td>Puerto Ricans Desperate For Water After Hurric...</td>\n",
       "      <td>WORLD NEWS</td>\n",
       "      <td>More than half a million people remained witho...</td>\n",
       "      <td>DÁNICA COTO, AP</td>\n",
       "      <td>2022-09-22</td>\n",
       "    </tr>\n",
       "    <tr>\n",
       "      <th>8</th>\n",
       "      <td>https://www.huffpost.com/entry/mija-documentar...</td>\n",
       "      <td>How A New Documentary Captures The Complexity ...</td>\n",
       "      <td>CULTURE &amp; ARTS</td>\n",
       "      <td>In \"Mija,\" director Isabel Castro combined mus...</td>\n",
       "      <td>Marina Fang</td>\n",
       "      <td>2022-09-22</td>\n",
       "    </tr>\n",
       "    <tr>\n",
       "      <th>9</th>\n",
       "      <td>https://www.huffpost.com/entry/biden-un-russia...</td>\n",
       "      <td>Biden At UN To Call Russian War An Affront To ...</td>\n",
       "      <td>WORLD NEWS</td>\n",
       "      <td>White House officials say the crux of the pres...</td>\n",
       "      <td>Aamer Madhani, AP</td>\n",
       "      <td>2022-09-21</td>\n",
       "    </tr>\n",
       "  </tbody>\n",
       "</table>\n",
       "</div>"
      ],
      "text/plain": [
       "                                                link  \\\n",
       "0  https://www.huffpost.com/entry/covid-boosters-...   \n",
       "1  https://www.huffpost.com/entry/american-airlin...   \n",
       "2  https://www.huffpost.com/entry/funniest-tweets...   \n",
       "3  https://www.huffpost.com/entry/funniest-parent...   \n",
       "4  https://www.huffpost.com/entry/amy-cooper-lose...   \n",
       "5  https://www.huffpost.com/entry/belk-worker-fou...   \n",
       "6  https://www.huffpost.com/entry/reporter-gets-a...   \n",
       "7  https://www.huffpost.com/entry/puerto-rico-wat...   \n",
       "8  https://www.huffpost.com/entry/mija-documentar...   \n",
       "9  https://www.huffpost.com/entry/biden-un-russia...   \n",
       "\n",
       "                                            headline        category  \\\n",
       "0  Over 4 Million Americans Roll Up Sleeves For O...       U.S. NEWS   \n",
       "1  American Airlines Flyer Charged, Banned For Li...       U.S. NEWS   \n",
       "2  23 Of The Funniest Tweets About Cats And Dogs ...          COMEDY   \n",
       "3  The Funniest Tweets From Parents This Week (Se...       PARENTING   \n",
       "4  Woman Who Called Cops On Black Bird-Watcher Lo...       U.S. NEWS   \n",
       "5  Cleaner Was Dead In Belk Bathroom For 4 Days B...       U.S. NEWS   \n",
       "6  Reporter Gets Adorable Surprise From Her Boyfr...       U.S. NEWS   \n",
       "7  Puerto Ricans Desperate For Water After Hurric...      WORLD NEWS   \n",
       "8  How A New Documentary Captures The Complexity ...  CULTURE & ARTS   \n",
       "9  Biden At UN To Call Russian War An Affront To ...      WORLD NEWS   \n",
       "\n",
       "                                   short_description               authors  \\\n",
       "0  Health experts said it is too early to predict...  Carla K. Johnson, AP   \n",
       "1  He was subdued by passengers and crew when he ...        Mary Papenfuss   \n",
       "2  \"Until you have a dog you don't understand wha...         Elyse Wanshel   \n",
       "3  \"Accidentally put grown-up toothpaste on my to...      Caroline Bologna   \n",
       "4  Amy Cooper accused investment firm Franklin Te...        Nina Golgowski   \n",
       "5  The 63-year-old woman was seen working at the ...                   NaN   \n",
       "6  \"Who's that behind you?\" an anchor for New Yor...         Elyse Wanshel   \n",
       "7  More than half a million people remained witho...       DÁNICA COTO, AP   \n",
       "8  In \"Mija,\" director Isabel Castro combined mus...           Marina Fang   \n",
       "9  White House officials say the crux of the pres...     Aamer Madhani, AP   \n",
       "\n",
       "         date  \n",
       "0  2022-09-23  \n",
       "1  2022-09-23  \n",
       "2  2022-09-23  \n",
       "3  2022-09-23  \n",
       "4  2022-09-22  \n",
       "5  2022-09-22  \n",
       "6  2022-09-22  \n",
       "7  2022-09-22  \n",
       "8  2022-09-22  \n",
       "9  2022-09-21  "
      ]
     },
     "execution_count": 139,
     "metadata": {},
     "output_type": "execute_result"
    }
   ],
   "source": [
    "df = pd.read_csv(\"News_Dataset.csv\")\n",
    "df.head(10)"
   ]
  },
  {
   "cell_type": "code",
   "execution_count": 140,
   "id": "af4a4a4b-93aa-4956-a377-057b281c0a48",
   "metadata": {},
   "outputs": [
    {
     "name": "stdout",
     "output_type": "stream",
     "text": [
      "<class 'pandas.core.frame.DataFrame'>\n",
      "RangeIndex: 209527 entries, 0 to 209526\n",
      "Data columns (total 6 columns):\n",
      " #   Column             Non-Null Count   Dtype \n",
      "---  ------             --------------   ----- \n",
      " 0   link               209527 non-null  object\n",
      " 1   headline           209521 non-null  object\n",
      " 2   category           209527 non-null  object\n",
      " 3   short_description  189815 non-null  object\n",
      " 4   authors            172109 non-null  object\n",
      " 5   date               209527 non-null  object\n",
      "dtypes: object(6)\n",
      "memory usage: 9.6+ MB\n"
     ]
    }
   ],
   "source": [
    "df.info()"
   ]
  },
  {
   "cell_type": "markdown",
   "id": "0955f870-63e0-479b-a7f1-26868c07d055",
   "metadata": {},
   "source": [
    "# Checking Null values"
   ]
  },
  {
   "cell_type": "code",
   "execution_count": 141,
   "id": "ae56c3d4-fe67-4938-b7e9-f3d4428a6f6e",
   "metadata": {},
   "outputs": [
    {
     "data": {
      "text/plain": [
       "link                     0\n",
       "headline                 6\n",
       "category                 0\n",
       "short_description    19712\n",
       "authors              37418\n",
       "date                     0\n",
       "dtype: int64"
      ]
     },
     "execution_count": 141,
     "metadata": {},
     "output_type": "execute_result"
    }
   ],
   "source": [
    "df.isnull().sum()"
   ]
  },
  {
   "cell_type": "code",
   "execution_count": 142,
   "id": "e2dbb4b2-9044-4ae7-887a-3c8ba1c59777",
   "metadata": {},
   "outputs": [
    {
     "name": "stdout",
     "output_type": "stream",
     "text": [
      "Index(['link', 'headline', 'category', 'short_description', 'authors', 'date'], dtype='object')\n"
     ]
    }
   ],
   "source": [
    "# Print the column names of your DataFrame\n",
    "print(df.columns)\n"
   ]
  },
  {
   "cell_type": "code",
   "execution_count": 143,
   "id": "734399ab-8f13-47ce-80d0-a9161f281d73",
   "metadata": {},
   "outputs": [],
   "source": [
    "to_drop = ['link','short_description','authors', 'date']\n",
    "df.drop(to_drop,inplace=True,axis=1)"
   ]
  },
  {
   "cell_type": "code",
   "execution_count": 144,
   "id": "09d7e1d6-3a72-45d3-b4c2-ac5a83d6cf1b",
   "metadata": {},
   "outputs": [],
   "source": [
    "#to_drop = ['short_description']"
   ]
  },
  {
   "cell_type": "code",
   "execution_count": 145,
   "id": "a55da115-c258-4ca0-8489-ed62e39e04f7",
   "metadata": {},
   "outputs": [
    {
     "name": "stdout",
     "output_type": "stream",
     "text": [
      "Index(['headline', 'category'], dtype='object')\n",
      "Column 'link' not found in DataFrame\n",
      "Column 'short_description' not found in DataFrame\n",
      "Column 'authors' not found in DataFrame\n",
      "Column 'date' not found in DataFrame\n"
     ]
    }
   ],
   "source": [
    "# Print the column names of your DataFrame\n",
    "print(df.columns)\n",
    "\n",
    "# Check if the specified columns exist in the DataFrame\n",
    "for column in to_drop:\n",
    "    if column not in df.columns:\n",
    "        print(f\"Column '{column}' not found in DataFrame\")\n"
   ]
  },
  {
   "cell_type": "code",
   "execution_count": 146,
   "id": "25aef707-f197-41e8-8ab1-a7ed830c2236",
   "metadata": {},
   "outputs": [
    {
     "data": {
      "text/html": [
       "<div>\n",
       "<style scoped>\n",
       "    .dataframe tbody tr th:only-of-type {\n",
       "        vertical-align: middle;\n",
       "    }\n",
       "\n",
       "    .dataframe tbody tr th {\n",
       "        vertical-align: top;\n",
       "    }\n",
       "\n",
       "    .dataframe thead th {\n",
       "        text-align: right;\n",
       "    }\n",
       "</style>\n",
       "<table border=\"1\" class=\"dataframe\">\n",
       "  <thead>\n",
       "    <tr style=\"text-align: right;\">\n",
       "      <th></th>\n",
       "      <th>headline</th>\n",
       "      <th>category</th>\n",
       "    </tr>\n",
       "  </thead>\n",
       "  <tbody>\n",
       "    <tr>\n",
       "      <th>0</th>\n",
       "      <td>Over 4 Million Americans Roll Up Sleeves For O...</td>\n",
       "      <td>U.S. NEWS</td>\n",
       "    </tr>\n",
       "    <tr>\n",
       "      <th>1</th>\n",
       "      <td>American Airlines Flyer Charged, Banned For Li...</td>\n",
       "      <td>U.S. NEWS</td>\n",
       "    </tr>\n",
       "    <tr>\n",
       "      <th>2</th>\n",
       "      <td>23 Of The Funniest Tweets About Cats And Dogs ...</td>\n",
       "      <td>COMEDY</td>\n",
       "    </tr>\n",
       "    <tr>\n",
       "      <th>3</th>\n",
       "      <td>The Funniest Tweets From Parents This Week (Se...</td>\n",
       "      <td>PARENTING</td>\n",
       "    </tr>\n",
       "    <tr>\n",
       "      <th>4</th>\n",
       "      <td>Woman Who Called Cops On Black Bird-Watcher Lo...</td>\n",
       "      <td>U.S. NEWS</td>\n",
       "    </tr>\n",
       "    <tr>\n",
       "      <th>5</th>\n",
       "      <td>Cleaner Was Dead In Belk Bathroom For 4 Days B...</td>\n",
       "      <td>U.S. NEWS</td>\n",
       "    </tr>\n",
       "    <tr>\n",
       "      <th>6</th>\n",
       "      <td>Reporter Gets Adorable Surprise From Her Boyfr...</td>\n",
       "      <td>U.S. NEWS</td>\n",
       "    </tr>\n",
       "    <tr>\n",
       "      <th>7</th>\n",
       "      <td>Puerto Ricans Desperate For Water After Hurric...</td>\n",
       "      <td>WORLD NEWS</td>\n",
       "    </tr>\n",
       "    <tr>\n",
       "      <th>8</th>\n",
       "      <td>How A New Documentary Captures The Complexity ...</td>\n",
       "      <td>CULTURE &amp; ARTS</td>\n",
       "    </tr>\n",
       "    <tr>\n",
       "      <th>9</th>\n",
       "      <td>Biden At UN To Call Russian War An Affront To ...</td>\n",
       "      <td>WORLD NEWS</td>\n",
       "    </tr>\n",
       "    <tr>\n",
       "      <th>10</th>\n",
       "      <td>World Cup Captains Want To Wear Rainbow Armban...</td>\n",
       "      <td>WORLD NEWS</td>\n",
       "    </tr>\n",
       "    <tr>\n",
       "      <th>11</th>\n",
       "      <td>Man Sets Himself On Fire In Apparent Protest O...</td>\n",
       "      <td>WORLD NEWS</td>\n",
       "    </tr>\n",
       "    <tr>\n",
       "      <th>12</th>\n",
       "      <td>Fiona Threatens To Become Category 4 Storm Hea...</td>\n",
       "      <td>WORLD NEWS</td>\n",
       "    </tr>\n",
       "    <tr>\n",
       "      <th>13</th>\n",
       "      <td>Twitch Bans Gambling Sites After Streamer Scam...</td>\n",
       "      <td>TECH</td>\n",
       "    </tr>\n",
       "    <tr>\n",
       "      <th>14</th>\n",
       "      <td>Virginia Thomas Agrees To Interview With Jan. ...</td>\n",
       "      <td>U.S. NEWS</td>\n",
       "    </tr>\n",
       "    <tr>\n",
       "      <th>15</th>\n",
       "      <td>Russian Cosmonaut Valery Polyakov Who Broke Re...</td>\n",
       "      <td>WORLD NEWS</td>\n",
       "    </tr>\n",
       "    <tr>\n",
       "      <th>16</th>\n",
       "      <td>'Reboot' Is A Clever And Not Too Navel-Gazey L...</td>\n",
       "      <td>CULTURE &amp; ARTS</td>\n",
       "    </tr>\n",
       "    <tr>\n",
       "      <th>17</th>\n",
       "      <td>Maury Wills, Base-Stealing Shortstop For Dodge...</td>\n",
       "      <td>SPORTS</td>\n",
       "    </tr>\n",
       "    <tr>\n",
       "      <th>18</th>\n",
       "      <td>4 Russian-Controlled Ukrainian Regions Schedul...</td>\n",
       "      <td>WORLD NEWS</td>\n",
       "    </tr>\n",
       "    <tr>\n",
       "      <th>19</th>\n",
       "      <td>Fiona Barrels Toward Turks And Caicos Islands ...</td>\n",
       "      <td>WORLD NEWS</td>\n",
       "    </tr>\n",
       "  </tbody>\n",
       "</table>\n",
       "</div>"
      ],
      "text/plain": [
       "                                             headline        category\n",
       "0   Over 4 Million Americans Roll Up Sleeves For O...       U.S. NEWS\n",
       "1   American Airlines Flyer Charged, Banned For Li...       U.S. NEWS\n",
       "2   23 Of The Funniest Tweets About Cats And Dogs ...          COMEDY\n",
       "3   The Funniest Tweets From Parents This Week (Se...       PARENTING\n",
       "4   Woman Who Called Cops On Black Bird-Watcher Lo...       U.S. NEWS\n",
       "5   Cleaner Was Dead In Belk Bathroom For 4 Days B...       U.S. NEWS\n",
       "6   Reporter Gets Adorable Surprise From Her Boyfr...       U.S. NEWS\n",
       "7   Puerto Ricans Desperate For Water After Hurric...      WORLD NEWS\n",
       "8   How A New Documentary Captures The Complexity ...  CULTURE & ARTS\n",
       "9   Biden At UN To Call Russian War An Affront To ...      WORLD NEWS\n",
       "10  World Cup Captains Want To Wear Rainbow Armban...      WORLD NEWS\n",
       "11  Man Sets Himself On Fire In Apparent Protest O...      WORLD NEWS\n",
       "12  Fiona Threatens To Become Category 4 Storm Hea...      WORLD NEWS\n",
       "13  Twitch Bans Gambling Sites After Streamer Scam...            TECH\n",
       "14  Virginia Thomas Agrees To Interview With Jan. ...       U.S. NEWS\n",
       "15  Russian Cosmonaut Valery Polyakov Who Broke Re...      WORLD NEWS\n",
       "16  'Reboot' Is A Clever And Not Too Navel-Gazey L...  CULTURE & ARTS\n",
       "17  Maury Wills, Base-Stealing Shortstop For Dodge...          SPORTS\n",
       "18  4 Russian-Controlled Ukrainian Regions Schedul...      WORLD NEWS\n",
       "19  Fiona Barrels Toward Turks And Caicos Islands ...      WORLD NEWS"
      ]
     },
     "execution_count": 146,
     "metadata": {},
     "output_type": "execute_result"
    }
   ],
   "source": [
    "df.head(20)"
   ]
  },
  {
   "cell_type": "code",
   "execution_count": 147,
   "id": "f998e00e-ed73-4c6a-b658-195b11a639ed",
   "metadata": {},
   "outputs": [
    {
     "data": {
      "text/plain": [
       "1419"
      ]
     },
     "execution_count": 147,
     "metadata": {},
     "output_type": "execute_result"
    }
   ],
   "source": [
    "df.duplicated().sum()"
   ]
  },
  {
   "cell_type": "code",
   "execution_count": 148,
   "id": "9ddcc68a-660f-4894-a40b-b73a5ad04e92",
   "metadata": {},
   "outputs": [],
   "source": [
    "df = df.drop_duplicates()"
   ]
  },
  {
   "cell_type": "code",
   "execution_count": 149,
   "id": "6bbfb77a-740d-4778-828c-1603d4663c61",
   "metadata": {},
   "outputs": [
    {
     "data": {
      "text/plain": [
       "0"
      ]
     },
     "execution_count": 149,
     "metadata": {},
     "output_type": "execute_result"
    }
   ],
   "source": [
    "df.duplicated().sum()"
   ]
  },
  {
   "cell_type": "code",
   "execution_count": 150,
   "id": "c0c55397-09c8-4edd-ab66-2fccba7ed088",
   "metadata": {},
   "outputs": [
    {
     "data": {
      "text/plain": [
       "array(['U.S. NEWS', 'COMEDY', 'PARENTING', 'WORLD NEWS', 'CULTURE & ARTS',\n",
       "       'TECH', 'SPORTS', 'ENTERTAINMENT', 'POLITICS', 'WEIRD NEWS',\n",
       "       'ENVIRONMENT', 'EDUCATION', 'CRIME', 'SCIENCE', 'WELLNESS',\n",
       "       'BUSINESS', 'STYLE & BEAUTY', 'FOOD & DRINK', 'MEDIA',\n",
       "       'QUEER VOICES', 'HOME & LIVING', 'WOMEN', 'BLACK VOICES', 'TRAVEL',\n",
       "       'MONEY', 'RELIGION', 'LATINO VOICES', 'IMPACT', 'WEDDINGS',\n",
       "       'COLLEGE', 'PARENTS', 'ARTS & CULTURE', 'STYLE', 'GREEN', 'TASTE',\n",
       "       'HEALTHY LIVING', 'THE WORLDPOST', 'GOOD NEWS', 'WORLDPOST',\n",
       "       'FIFTY', 'ARTS', 'DIVORCE'], dtype=object)"
      ]
     },
     "execution_count": 150,
     "metadata": {},
     "output_type": "execute_result"
    }
   ],
   "source": [
    "df['category'].unique()"
   ]
  },
  {
   "cell_type": "code",
   "execution_count": 151,
   "id": "e5a12316-408d-4317-aa5a-081fec24c2a2",
   "metadata": {},
   "outputs": [
    {
     "data": {
      "text/plain": [
       "headline    object\n",
       "category    object\n",
       "dtype: object"
      ]
     },
     "execution_count": 151,
     "metadata": {},
     "output_type": "execute_result"
    }
   ],
   "source": [
    "df.dtypes"
   ]
  },
  {
   "cell_type": "code",
   "execution_count": 152,
   "id": "05378bb6-86af-4f64-a344-b8e5cc2cf15c",
   "metadata": {},
   "outputs": [],
   "source": [
    "category_counts = df['category'].value_counts()"
   ]
  },
  {
   "cell_type": "code",
   "execution_count": 153,
   "id": "8235fb0e-bac6-4858-b936-9e6576ff39b4",
   "metadata": {},
   "outputs": [
    {
     "data": {
      "image/png": "[encoded data removed]",
      "text/plain": [
       "<Figure size 2500x600 with 1 Axes>"
      ]
     },
     "metadata": {},
     "output_type": "display_data"
    }
   ],
   "source": [
    "import seaborn as sns\n",
    "import matplotlib.pyplot as plt\n",
    "\n",
    "# Assuming your DataFrame is named df and the column you want to visualize is named 'category'\n",
    "plt.figure(figsize=(25, 6))  # Adjust the figure size if needed\n",
    "sns.countplot(data=df, x='category')\n",
    "plt.xticks(rotation=45)  # Rotate x-axis labels for better readability if needed\n",
    "plt.title('Distribution of Categories')\n",
    "plt.xlabel('category')\n",
    "plt.ylabel('Count')\n",
    "plt.show()\n"
   ]
  },
  {
   "cell_type": "code",
   "execution_count": 154,
   "id": "4fb19cf1-a68a-4c3a-9be0-47745c53c80a",
   "metadata": {},
   "outputs": [
    {
     "data": {
      "text/plain": [
       "array(['U.S. NEWS', 'COMEDY', 'PARENTING', 'WORLD NEWS', 'CULTURE & ARTS',\n",
       "       'TECH', 'SPORTS', 'ENTERTAINMENT', 'POLITICS', 'WEIRD NEWS',\n",
       "       'ENVIRONMENT', 'EDUCATION', 'CRIME', 'SCIENCE', 'WELLNESS',\n",
       "       'BUSINESS', 'STYLE & BEAUTY', 'FOOD & DRINK', 'MEDIA',\n",
       "       'QUEER VOICES', 'HOME & LIVING', 'WOMEN', 'BLACK VOICES', 'TRAVEL',\n",
       "       'MONEY', 'RELIGION', 'LATINO VOICES', 'IMPACT', 'WEDDINGS',\n",
       "       'COLLEGE', 'PARENTS', 'ARTS & CULTURE', 'STYLE', 'GREEN', 'TASTE',\n",
       "       'HEALTHY LIVING', 'THE WORLDPOST', 'GOOD NEWS', 'WORLDPOST',\n",
       "       'FIFTY', 'ARTS', 'DIVORCE'], dtype=object)"
      ]
     },
     "execution_count": 154,
     "metadata": {},
     "output_type": "execute_result"
    }
   ],
   "source": [
    "df['category'].unique()"
   ]
  },
  {
   "cell_type": "code",
   "execution_count": 155,
   "id": "7939d4a2-5f7f-40e3-9c4c-91f5fdae75c4",
   "metadata": {},
   "outputs": [
    {
     "name": "stdout",
     "output_type": "stream",
     "text": [
      "Shape of filtered DataFrame: (115956, 2)\n",
      "                                            headline        category\n",
      "0  23 Of The Funniest Tweets About Cats And Dogs ...          COMEDY\n",
      "1  Puerto Ricans Desperate For Water After Hurric...      WORLD NEWS\n",
      "2  How A New Documentary Captures The Complexity ...  CULTURE & ARTS\n",
      "3  Biden At UN To Call Russian War An Affront To ...      WORLD NEWS\n",
      "4  World Cup Captains Want To Wear Rainbow Armban...      WORLD NEWS\n"
     ]
    }
   ],
   "source": [
    "# Assuming your DataFrame is named df and the column containing categories is named 'category'\n",
    "\n",
    "# Filter out rows with categories 'tech' and 'sports'\n",
    "df = df[~df['category'].isin(['PARENTING', 'U.S. NEWS', 'WEIRD NEWS', 'WELLNESS', 'FOOD & DRINK', 'MEDIA', 'QUEER VOICES', 'HOME & LIVING', 'WOMEN', 'BLACK VOICES', 'MONEY', 'LATINO VOICES', 'IMPACT', 'WEDDINGS', 'COLLEGE', 'PARENTS', 'ARTS & CULTURE', 'GREEN', 'TASTE', 'THE WORLDPOST', 'GOOD NEWS', 'WORLDPOST',\n",
    "       'FIFTY','DIVORCE'])]\n",
    "\n",
    "# Print the shape of the filtered DataFrame to verify the removal\n",
    "print(\"Shape of filtered DataFrame:\", df.shape)\n",
    "\n",
    "# Optionally, you can reset the index of the filtered DataFrame if you want\n",
    "df.reset_index(drop=True, inplace=True)\n",
    "\n",
    "# Optionally, you can save the filtered DataFrame to a new CSV file\n",
    "df.to_csv('filtered_dataset.csv', index=False)\n",
    "\n",
    "# Print the head of the filtered DataFrame to inspect the result\n",
    "print(df.head())\n"
   ]
  },
  {
   "cell_type": "code",
   "execution_count": 156,
   "id": "06a07a34-609b-4e7b-ba9f-45cb0a507f7b",
   "metadata": {},
   "outputs": [
    {
     "data": {
      "image/png": "[encoded data removed]",
      "text/plain": [
       "<Figure size 2500x600 with 1 Axes>"
      ]
     },
     "metadata": {},
     "output_type": "display_data"
    }
   ],
   "source": [
    "import seaborn as sns\n",
    "import matplotlib.pyplot as plt\n",
    "\n",
    "# Assuming your DataFrame is named df and the column you want to visualize is named 'category'\n",
    "plt.figure(figsize=(25, 6))  # Adjust the figure size if needed\n",
    "sns.countplot(data=df, x='category')\n",
    "plt.xticks(rotation=45)  # Rotate x-axis labels for better readability if needed\n",
    "plt.title('Distribution of Categories')\n",
    "plt.xlabel('category')\n",
    "plt.ylabel('Count')\n",
    "plt.show()"
   ]
  },
  {
   "cell_type": "code",
   "execution_count": 157,
   "id": "06efb535-4363-4bab-975a-fd779af9ceea",
   "metadata": {},
   "outputs": [],
   "source": [
    "#sns.set(style=\"whitegrid\")\n",
    "#plt.figure(figsize=(10, 6))\n",
    "#sns.barplot(x=category_counts.index, y=category_counts.values, palette=\"viridis\")"
   ]
  },
  {
   "cell_type": "markdown",
   "id": "1da00dc5-773b-48ea-8482-fbaf178ebeae",
   "metadata": {},
   "source": [
    "# Text PreProcessing"
   ]
  },
  {
   "cell_type": "code",
   "execution_count": 158,
   "id": "8641f586-8d2e-4d5f-be2c-566d1d793727",
   "metadata": {},
   "outputs": [
    {
     "data": {
      "text/plain": [
       "0         23 of the funniest tweets about cats and dogs ...\n",
       "1         puerto ricans desperate for water after hurric...\n",
       "2         how a new documentary captures the complexity ...\n",
       "3         biden at un to call russian war an affront to ...\n",
       "4         world cup captains want to wear rainbow armban...\n",
       "                                ...                        \n",
       "115951    rim ceo thorsten heins' 'significant' plans fo...\n",
       "115952    maria sharapova stunned by victoria azarenka i...\n",
       "115953    giants over patriots, jets over colts among  m...\n",
       "115954    aldon smith arrested: 49ers linebacker busted ...\n",
       "115955    dwight howard rips teammates after magic loss ...\n",
       "Name: headline, Length: 115956, dtype: object"
      ]
     },
     "execution_count": 158,
     "metadata": {},
     "output_type": "execute_result"
    }
   ],
   "source": [
    "# converting dataset to lower\n",
    "df['headline'].str.lower()"
   ]
  },
  {
   "cell_type": "code",
   "execution_count": 161,
   "id": "ce8d9e4e-42df-40d8-a9c9-44f3234a86ae",
   "metadata": {},
   "outputs": [],
   "source": [
    "#function for removing of html tags\n",
    "import re\n",
    "def remove_html_tags(text):\n",
    "    pattern = re.compile('<.*?>')\n",
    "    return pattern.sub(r'', str(text))\n",
    "\n",
    "# Apply the function after converting the column to string\n",
    "#df['headline'] = df['headline'].apply(remove_html_tags)\n"
   ]
  },
  {
   "cell_type": "code",
   "execution_count": 162,
   "id": "18978a7a-36b4-47f4-a045-fcd073cbd729",
   "metadata": {},
   "outputs": [],
   "source": [
    "# Removing html tags\n",
    "df['headline']=df['headline'].apply(remove_html_tags)\n",
    "#df.info()"
   ]
  },
  {
   "cell_type": "code",
   "execution_count": 163,
   "id": "6e94da65-1e27-459f-9082-0a21409b456a",
   "metadata": {},
   "outputs": [],
   "source": [
    "#function for removing url\n",
    "def remove_url(text):\n",
    "    pattern = re.compile(r'https?://\\S+|www\\.\\S+')\n",
    "    return pattern.sub(r'', str(text))"
   ]
  },
  {
   "cell_type": "code",
   "execution_count": 164,
   "id": "711a08f8-5be8-4c5a-8c71-27b218b35820",
   "metadata": {},
   "outputs": [
    {
     "data": {
      "text/plain": [
       "0         23 Of The Funniest Tweets About Cats And Dogs ...\n",
       "1         Puerto Ricans Desperate For Water After Hurric...\n",
       "2         How A New Documentary Captures The Complexity ...\n",
       "3         Biden At UN To Call Russian War An Affront To ...\n",
       "4         World Cup Captains Want To Wear Rainbow Armban...\n",
       "                                ...                        \n",
       "115951    RIM CEO Thorsten Heins' 'Significant' Plans Fo...\n",
       "115952    Maria Sharapova Stunned By Victoria Azarenka I...\n",
       "115953    Giants Over Patriots, Jets Over Colts Among  M...\n",
       "115954    Aldon Smith Arrested: 49ers Linebacker Busted ...\n",
       "115955    Dwight Howard Rips Teammates After Magic Loss ...\n",
       "Name: headline, Length: 115956, dtype: object"
      ]
     },
     "execution_count": 164,
     "metadata": {},
     "output_type": "execute_result"
    }
   ],
   "source": [
    "# Removing urls\n",
    "df['headline'].apply(remove_url)"
   ]
  },
  {
   "cell_type": "code",
   "execution_count": 165,
   "id": "9ce9996c-d2e4-4f61-af68-9ae36c3f9151",
   "metadata": {},
   "outputs": [
    {
     "data": {
      "text/plain": [
       "'!\"#$%&\\'()*+,-./:;<=>?@[\\\\]^_`{|}~'"
      ]
     },
     "execution_count": 165,
     "metadata": {},
     "output_type": "execute_result"
    }
   ],
   "source": [
    "import string,time\n",
    "string.punctuation"
   ]
  },
  {
   "cell_type": "code",
   "execution_count": 166,
   "id": "a00cbb28-e6fb-4e25-8de2-a253df803fdc",
   "metadata": {},
   "outputs": [],
   "source": [
    "exclude = string.punctuation"
   ]
  },
  {
   "cell_type": "code",
   "execution_count": 167,
   "id": "f8d06d4b-60a1-4fdb-8890-317d1f77a7dc",
   "metadata": {},
   "outputs": [],
   "source": [
    "#function for removing punctuation\n",
    "def remove_punc(text):\n",
    "    return text.translate(str.maketrans('', '', exclude))"
   ]
  },
  {
   "cell_type": "code",
   "execution_count": 169,
   "id": "f10f029d-e5b1-4f0e-87a4-c11173e3f1c7",
   "metadata": {},
   "outputs": [
    {
     "data": {
      "text/plain": [
       "0         23 Of The Funniest Tweets About Cats And Dogs ...\n",
       "1         Puerto Ricans Desperate For Water After Hurric...\n",
       "2         How A New Documentary Captures The Complexity ...\n",
       "3         Biden At UN To Call Russian War An Affront To ...\n",
       "4         World Cup Captains Want To Wear Rainbow Armban...\n",
       "                                ...                        \n",
       "115951    RIM CEO Thorsten Heins Significant Plans For B...\n",
       "115952    Maria Sharapova Stunned By Victoria Azarenka I...\n",
       "115953    Giants Over Patriots Jets Over Colts Among  Mo...\n",
       "115954    Aldon Smith Arrested 49ers Linebacker Busted F...\n",
       "115955    Dwight Howard Rips Teammates After Magic Loss ...\n",
       "Name: headline, Length: 115956, dtype: object"
      ]
     },
     "execution_count": 169,
     "metadata": {},
     "output_type": "execute_result"
    }
   ],
   "source": [
    "df['headline'].apply(remove_punc)"
   ]
  },
  {
   "cell_type": "code",
   "execution_count": 170,
   "id": "a15997d3-849d-4790-9649-8938150706db",
   "metadata": {},
   "outputs": [],
   "source": [
    "# Spelling correction\n",
    "#from textblob import TextBlob"
   ]
  },
  {
   "cell_type": "code",
   "execution_count": 171,
   "id": "407a171e-3a8f-4b2b-b931-68868507bc81",
   "metadata": {},
   "outputs": [],
   "source": [
    "#TextBlob(df['Text']).correct().string"
   ]
  },
  {
   "cell_type": "code",
   "execution_count": 172,
   "id": "d28b1283-8d6b-41a6-a580-3b6d184da92e",
   "metadata": {},
   "outputs": [],
   "source": [
    "from nltk.tokenize import word_tokenize"
   ]
  },
  {
   "cell_type": "code",
   "execution_count": 173,
   "id": "c5ce0b4d-c166-4ddf-b797-d757326232a1",
   "metadata": {},
   "outputs": [],
   "source": [
    "def tokenize_text(text):\n",
    "    return word_tokenize(text)"
   ]
  },
  {
   "cell_type": "code",
   "execution_count": 176,
   "id": "5a9e58f2-8b3f-42f6-92ad-0b4aaf4c8bd8",
   "metadata": {},
   "outputs": [
    {
     "data": {
      "text/plain": [
       "0         [23, Of, The, Funniest, Tweets, About, Cats, A...\n",
       "1         [Puerto, Ricans, Desperate, For, Water, After,...\n",
       "2         [How, A, New, Documentary, Captures, The, Comp...\n",
       "3         [Biden, At, UN, To, Call, Russian, War, An, Af...\n",
       "4         [World, Cup, Captains, Want, To, Wear, Rainbow...\n",
       "                                ...                        \n",
       "115951    [RIM, CEO, Thorsten, Heins, ', 'Significant, '...\n",
       "115952    [Maria, Sharapova, Stunned, By, Victoria, Azar...\n",
       "115953    [Giants, Over, Patriots, ,, Jets, Over, Colts,...\n",
       "115954    [Aldon, Smith, Arrested, :, 49ers, Linebacker,...\n",
       "115955    [Dwight, Howard, Rips, Teammates, After, Magic...\n",
       "Name: headline, Length: 115956, dtype: object"
      ]
     },
     "execution_count": 176,
     "metadata": {},
     "output_type": "execute_result"
    }
   ],
   "source": [
    "df['headline'].apply(tokenize_text)"
   ]
  },
  {
   "cell_type": "code",
   "execution_count": 182,
   "id": "2f3c1871-119e-406a-8ccb-9974ad4fe24e",
   "metadata": {},
   "outputs": [],
   "source": [
    "df['headline'] = list(map(remove_html_tags, df['headline']))\n",
    "df['headline'] = list(map(remove_url, df['headline']))\n",
    "df['headline'] = list(map(remove_punc, df['headline']))\n",
    "df['headline'] = list(map(tokenize_text, df['headline']))"
   ]
  },
  {
   "cell_type": "code",
   "execution_count": 183,
   "id": "d4a3b1b9-476b-45a5-89d5-c9a7c52ba43c",
   "metadata": {},
   "outputs": [
    {
     "data": {
      "text/plain": [
       "['23',\n",
       " 'Of',\n",
       " 'The',\n",
       " 'Funniest',\n",
       " 'Tweets',\n",
       " 'About',\n",
       " 'Cats',\n",
       " 'And',\n",
       " 'Dogs',\n",
       " 'This',\n",
       " 'Week',\n",
       " 'Sept',\n",
       " '1723']"
      ]
     },
     "execution_count": 183,
     "metadata": {},
     "output_type": "execute_result"
    }
   ],
   "source": [
    "df['headline'] [0]"
   ]
  },
  {
   "cell_type": "code",
   "execution_count": 184,
   "id": "cdb78595-5770-49ea-8105-84a1a15bbc36",
   "metadata": {},
   "outputs": [],
   "source": [
    "#df.to_csv('News_Preprocessed.csv')"
   ]
  },
  {
   "cell_type": "code",
   "execution_count": 185,
   "id": "533ce0ab-a523-4f99-a85a-0fe3194b5f59",
   "metadata": {},
   "outputs": [],
   "source": [
    "#ab = pd.read_csv(\"News_Preprocessed.csv\")\n",
    "#ab.head(10)"
   ]
  },
  {
   "cell_type": "code",
   "execution_count": 186,
   "id": "d4149e65-c6ad-4a73-b30e-a56f71cf53e2",
   "metadata": {},
   "outputs": [
    {
     "data": {
      "text/html": [
       "<div>\n",
       "<style scoped>\n",
       "    .dataframe tbody tr th:only-of-type {\n",
       "        vertical-align: middle;\n",
       "    }\n",
       "\n",
       "    .dataframe tbody tr th {\n",
       "        vertical-align: top;\n",
       "    }\n",
       "\n",
       "    .dataframe thead th {\n",
       "        text-align: right;\n",
       "    }\n",
       "</style>\n",
       "<table border=\"1\" class=\"dataframe\">\n",
       "  <thead>\n",
       "    <tr style=\"text-align: right;\">\n",
       "      <th></th>\n",
       "      <th>headline</th>\n",
       "      <th>category</th>\n",
       "    </tr>\n",
       "  </thead>\n",
       "  <tbody>\n",
       "    <tr>\n",
       "      <th>0</th>\n",
       "      <td>[23, Of, The, Funniest, Tweets, About, Cats, A...</td>\n",
       "      <td>COMEDY</td>\n",
       "    </tr>\n",
       "    <tr>\n",
       "      <th>1</th>\n",
       "      <td>[Puerto, Ricans, Desperate, For, Water, After,...</td>\n",
       "      <td>WORLD NEWS</td>\n",
       "    </tr>\n",
       "    <tr>\n",
       "      <th>2</th>\n",
       "      <td>[How, A, New, Documentary, Captures, The, Comp...</td>\n",
       "      <td>CULTURE &amp; ARTS</td>\n",
       "    </tr>\n",
       "    <tr>\n",
       "      <th>3</th>\n",
       "      <td>[Biden, At, UN, To, Call, Russian, War, An, Af...</td>\n",
       "      <td>WORLD NEWS</td>\n",
       "    </tr>\n",
       "    <tr>\n",
       "      <th>4</th>\n",
       "      <td>[World, Cup, Captains, Want, To, Wear, Rainbow...</td>\n",
       "      <td>WORLD NEWS</td>\n",
       "    </tr>\n",
       "  </tbody>\n",
       "</table>\n",
       "</div>"
      ],
      "text/plain": [
       "                                            headline        category\n",
       "0  [23, Of, The, Funniest, Tweets, About, Cats, A...          COMEDY\n",
       "1  [Puerto, Ricans, Desperate, For, Water, After,...      WORLD NEWS\n",
       "2  [How, A, New, Documentary, Captures, The, Comp...  CULTURE & ARTS\n",
       "3  [Biden, At, UN, To, Call, Russian, War, An, Af...      WORLD NEWS\n",
       "4  [World, Cup, Captains, Want, To, Wear, Rainbow...      WORLD NEWS"
      ]
     },
     "execution_count": 186,
     "metadata": {},
     "output_type": "execute_result"
    }
   ],
   "source": [
    "df.head()"
   ]
  },
  {
   "cell_type": "markdown",
   "id": "9eb4b0f0-b31d-4e6f-b121-03bf8d1a7065",
   "metadata": {},
   "source": [
    "# Spliting data into Train, Test & Validation"
   ]
  },
  {
   "cell_type": "code",
   "execution_count": 188,
   "id": "aa6d0d45-489b-4adf-8654-376ede7bd45c",
   "metadata": {},
   "outputs": [],
   "source": [
    "X = df['headline']\n",
    "y = df['category']"
   ]
  },
  {
   "cell_type": "code",
   "execution_count": 189,
   "id": "34755865-8a80-45bd-b510-497ebc2e63fd",
   "metadata": {},
   "outputs": [],
   "source": [
    "from sklearn.model_selection import train_test_split\n",
    "X_train, X_test, y_train, y_test = train_test_split(X, y, test_size=0.3, random_state=10)\n",
    "#X_test, X_val, y_test, y_val = train_test_split(X_temp, y_temp, test_size=0.5, random_state=10)"
   ]
  },
  {
   "cell_type": "code",
   "execution_count": 190,
   "id": "7464cc77-a219-4817-9313-95d03076460f",
   "metadata": {},
   "outputs": [
    {
     "name": "stdout",
     "output_type": "stream",
     "text": [
      "Training set size: 81169\n",
      "Testing set size: 34787\n"
     ]
    }
   ],
   "source": [
    "# Display the sizes of the resulting sets\n",
    "print(f\"Training set size: {len(X_train)}\")\n",
    "print(f\"Testing set size: {len(X_test)}\")"
   ]
  },
  {
   "cell_type": "markdown",
   "id": "c73017b6-e327-4d2b-b638-f23c0eb6b557",
   "metadata": {},
   "source": [
    "# Label Encoding"
   ]
  },
  {
   "cell_type": "code",
   "execution_count": 191,
   "id": "9517792a-61a1-4437-b6a3-16573af488c7",
   "metadata": {},
   "outputs": [],
   "source": [
    "from sklearn import preprocessing \n",
    "label_encoder = preprocessing.LabelEncoder() "
   ]
  },
  {
   "cell_type": "code",
   "execution_count": 192,
   "id": "76d42ded-c85b-444a-bf5f-983f682b00aa",
   "metadata": {},
   "outputs": [],
   "source": [
    "y_train_encoded = label_encoder.fit_transform(y_train)\n",
    "y_test_encoded = label_encoder.transform(y_test)"
   ]
  },
  {
   "cell_type": "code",
   "execution_count": 193,
   "id": "7e485b9d-280d-4c03-96ef-379542857fb1",
   "metadata": {},
   "outputs": [
    {
     "name": "stdout",
     "output_type": "stream",
     "text": [
      "Class Mapping:\n",
      "ARTS: 0\n",
      "BUSINESS: 1\n",
      "COMEDY: 2\n",
      "CRIME: 3\n",
      "CULTURE & ARTS: 4\n",
      "EDUCATION: 5\n",
      "ENTERTAINMENT: 6\n",
      "ENVIRONMENT: 7\n",
      "HEALTHY LIVING: 8\n",
      "POLITICS: 9\n",
      "RELIGION: 10\n",
      "SCIENCE: 11\n",
      "SPORTS: 12\n",
      "STYLE: 13\n",
      "STYLE & BEAUTY: 14\n",
      "TECH: 15\n",
      "TRAVEL: 16\n",
      "WORLD NEWS: 17\n"
     ]
    }
   ],
   "source": [
    "class_mapping = dict(zip(label_encoder.classes_, label_encoder.transform(label_encoder.classes_)))\n",
    "print(\"Class Mapping:\")\n",
    "for class_label, encoded_value in class_mapping.items():\n",
    "    print(f\"{class_label}: {encoded_value}\")"
   ]
  },
  {
   "cell_type": "markdown",
   "id": "9f5bab6d-1aad-4e54-a60f-7311a1a5a94f",
   "metadata": {},
   "source": [
    "# LSTM model"
   ]
  },
  {
   "cell_type": "code",
   "execution_count": 198,
   "id": "9accb8d3-4f20-40b4-8076-6f07023b9d36",
   "metadata": {},
   "outputs": [],
   "source": [
    "import tensorflow as tf\n",
    "from keras.preprocessing.text import Tokenizer\n",
    "from keras.preprocessing.sequence import pad_sequences\n",
    "max_words = 10000  \n",
    "max_sequence_length = 100  \n",
    "tokenizer = Tokenizer(num_words=max_words)\n",
    "tokenizer.fit_on_texts(X_train)\n",
    "X_train_sequence = tokenizer.texts_to_sequences(X_train)\n",
    "X_test_sequence = tokenizer.texts_to_sequences(X_test)\n",
    "X_train_padded = tf.keras.preprocessing.sequence.pad_sequences(X_train_sequence, maxlen=max_sequence_length)\n",
    "X_test_padded = tf.keras.preprocessing.sequence.pad_sequences(X_test_sequence, maxlen=max_sequence_length)"
   ]
  },
  {
   "cell_type": "code",
   "execution_count": 199,
   "id": "243a1969-045b-4322-9466-a2f06f18f559",
   "metadata": {},
   "outputs": [
    {
     "name": "stdout",
     "output_type": "stream",
     "text": [
      "Model: \"sequential_3\"\n",
      "_________________________________________________________________\n",
      " Layer (type)                Output Shape              Param #   \n",
      "=================================================================\n",
      " embedding_3 (Embedding)     (None, 100, 1000)         10000000  \n",
      "                                                                 \n",
      " bidirectional_3 (Bidirecti  (None, 256)               1156096   \n",
      " onal)                                                           \n",
      "                                                                 \n",
      " dense_6 (Dense)             (None, 128)               32896     \n",
      "                                                                 \n",
      " dense_7 (Dense)             (None, 64)                8256      \n",
      "                                                                 \n",
      " dense_8 (Dense)             (None, 18)                1170      \n",
      "                                                                 \n",
      "=================================================================\n",
      "Total params: 11198418 (42.72 MB)\n",
      "Trainable params: 11198418 (42.72 MB)\n",
      "Non-trainable params: 0 (0.00 Byte)\n",
      "_________________________________________________________________\n",
      "None\n"
     ]
    }
   ],
   "source": [
    "from keras.models import Sequential\n",
    "from keras.layers import Embedding, LSTM, Dense, Dropout,Bidirectional\n",
    "embedding_dim = 1000\n",
    "batch_size = 64\n",
    "epochs = 5\n",
    "\n",
    "model1 = Sequential()\n",
    "model1.add(Embedding(max_words, embedding_dim, input_length=100))\n",
    "model1.add(Bidirectional(LSTM(128)))\n",
    "#model.add(LSTM(100))\n",
    "#model.add(Dropout(0.3))\n",
    "model1.add(Dense(128,activation='relu'))\n",
    "model1.add(Dense(64,activation='relu'))\n",
    "model1.add(Dense(18, activation='softmax'))\n",
    "print(model1.summary())"
   ]
  },
  {
   "cell_type": "code",
   "execution_count": 200,
   "id": "a1c3e753-140e-4ac1-8bbb-884316f2158e",
   "metadata": {},
   "outputs": [
    {
     "name": "stdout",
     "output_type": "stream",
     "text": [
      "Epoch 1/5\n",
      "1142/1142 [==============================] - 487s 418ms/step - loss: 1.3694 - accuracy: 0.6052 - val_loss: 1.0536 - val_accuracy: 0.7015\n",
      "Epoch 2/5\n",
      "1142/1142 [==============================] - 439s 384ms/step - loss: 0.8486 - accuracy: 0.7488 - val_loss: 1.0025 - val_accuracy: 0.7094\n",
      "Epoch 3/5\n",
      "1142/1142 [==============================] - 431s 377ms/step - loss: 0.6361 - accuracy: 0.8055 - val_loss: 1.0284 - val_accuracy: 0.7141\n",
      "Epoch 4/5\n",
      "1142/1142 [==============================] - 432s 378ms/step - loss: 0.4648 - accuracy: 0.8552 - val_loss: 1.1530 - val_accuracy: 0.6991\n",
      "Epoch 5/5\n",
      "1142/1142 [==============================] - 435s 380ms/step - loss: 0.3283 - accuracy: 0.8967 - val_loss: 1.3363 - val_accuracy: 0.6936\n"
     ]
    },
    {
     "data": {
      "text/plain": [
       "<keras.src.callbacks.History at 0x19b4e0b2690>"
      ]
     },
     "execution_count": 200,
     "metadata": {},
     "output_type": "execute_result"
    }
   ],
   "source": [
    "#from tensorflow.keras.optimizers import Adam\n",
    "model1.compile(optimizer='adam', loss='sparse_categorical_crossentropy', metrics=['accuracy'])\n",
    "model1.fit(X_train_padded, y_train_encoded, epochs=5, batch_size=64, validation_split=0.1)"
   ]
  },
  {
   "cell_type": "code",
   "execution_count": 201,
   "id": "bf6f9b1f-17d2-4fc1-8c7b-a96ff43196d7",
   "metadata": {},
   "outputs": [
    {
     "name": "stdout",
     "output_type": "stream",
     "text": [
      "1088/1088 [==============================] - 54s 49ms/step - loss: 1.3648 - accuracy: 0.6832\n"
     ]
    },
    {
     "data": {
      "text/plain": [
       "[1.3647620677947998, 0.6832150220870972]"
      ]
     },
     "execution_count": 201,
     "metadata": {},
     "output_type": "execute_result"
    }
   ],
   "source": [
    "model1.evaluate(X_test_padded,y_test_encoded)"
   ]
  },
  {
   "cell_type": "code",
   "execution_count": 203,
   "id": "149a2033-5cbc-4cbe-8c55-2cf0d9bfcca1",
   "metadata": {},
   "outputs": [],
   "source": [
    "from keras.preprocessing.text import Tokenizer\n",
    "from keras.preprocessing.sequence import pad_sequences\n",
    "def predict_class(text):\n",
    "    user_sequences = tokenizer.texts_to_sequences([text])\n",
    "    user_padded = tf.keras.preprocessing.sequence.pad_sequences(user_sequences, maxlen=100)\n",
    "    class_mapping={0: 'ARTS', 1: 'BUSINESS', 2: 'COMEDY', 3: 'CRIME', 4: 'CULTURE & ARTS', 5: 'EDUCATION', 6: 'ENTERTAINMENT', 7: 'ENVIRONMENT', 8: 'HEALTHY LIVING', 9: 'POLITICS', 10: 'RELIGION', 11: 'SCIENCE', 12: 'SPORTS', 13: 'STYLE', 14: 'STYLE & BEAUTY', 15: 'TECH',16: 'TRAVEL', 17: 'WORLD NEWS'}\n",
    "    user_predictions = model1.predict(user_padded)\n",
    "    user_pred_classes = np.argmax(user_predictions, axis=1)\n",
    "\n",
    "    print(f'This news belong to : {class_mapping[user_pred_classes[0]]}')"
   ]
  },
  {
   "cell_type": "code",
   "execution_count": 216,
   "id": "c90186ac-7b1c-46a0-933d-dfe5251e22a6",
   "metadata": {},
   "outputs": [
    {
     "name": "stdout",
     "output_type": "stream",
     "text": [
      "1/1 [==============================] - 0s 34ms/step\n",
      "This news belong to : TRAVEL\n"
     ]
    }
   ],
   "source": [
    "predict_class(\"These tourist hot spots are introducing entry fees and price hikes for 2024\")"
   ]
  },
  {
   "cell_type": "code",
   "execution_count": null,
   "id": "03d7765e-dbb0-4c4f-a181-e009c1eb0fd4",
   "metadata": {},
   "outputs": [],
   "source": []
  },
  {
   "cell_type": "code",
   "execution_count": null,
   "id": "d2b52270-bdc8-4707-9bac-0ae88725f0c5",
   "metadata": {},
   "outputs": [],
   "source": []
  },
  {
   "cell_type": "code",
   "execution_count": null,
   "id": "9d7400a9-0801-4da1-b55e-ac6cf28d9e21",
   "metadata": {},
   "outputs": [],
   "source": []
  },
  {
   "cell_type": "code",
   "execution_count": null,
   "id": "b4fea610-5c77-46e4-bcb9-7116d3c68f17",
   "metadata": {},
   "outputs": [],
   "source": []
  }
 ],
 "metadata": {
  "kernelspec": {
   "display_name": "Python 3 (ipykernel)",
   "language": "python",
   "name": "python3"
  },
  "language_info": {
   "codemirror_mode": {
    "name": "ipython",
    "version": 3
   },
   "file_extension": ".py",
   "mimetype": "text/x-python",
   "name": "python",
   "nbconvert_exporter": "python",
   "pygments_lexer": "ipython3",
   "version": "3.11.4"
  }
 },
 "nbformat": 4,
 "nbformat_minor": 5
}
